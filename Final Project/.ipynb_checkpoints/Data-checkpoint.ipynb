{
 "cells": [
  {
   "attachments": {},
   "cell_type": "markdown",
   "metadata": {},
   "source": [
    "# Data\n",
    "To do the analysis a number of online sources in conjunction with Forsquare location data can be used. The details of them are as follows:\n",
    " * **Population Data of the UK by Authority Area**\n",
    " \n",
    "   This can be found online in Web from the Office for National Statistics of the British Government (*https://www.ons.gov.uk/*). The link is: \n",
    "   *https://www.ons.gov.uk/peoplepopulationandcommunity/populationandmigration/populationestimates/datasets/populationestimatesforukenglandandwalesscotlandandnorthernireland*\n",
    "   In the file we can find the spreadsheet *MYE2 - Persons* with the estimates of the British population by Authority area of 2019.\n",
    "   \n",
    "   Each row of the data represents one Authority Area of UK (in the case of the London Metropolitan Area, the file will have a row for each of the neighbourhoods or boroughs of London) The columns represents the number of people living in 2019 for each age. There is also a column with the Total that is the one that we are interested in.\n",
    "   \n",
    "   In the file we can see that each Authority Area has a code. The codes for the 33 London boroughs are the ones Starting in *E09000001* and ending in *E09000033*\n",
    "   \n",
    "* **GeoJson file with the boundaries of all district areas for the UK**\n",
    "\n",
    "   This can be found online in the British Government data portal *https://data.gov.uk/* \n",
    "   \n",
    "   The link to the particular GeoJson File is: *http://geoportal1-ons.opendata.arcgis.com/datasets/fab4feab211c4899b602ecfbfbc420a3_3.geojson?outSR={%22latestWkid%22:4326,%22wkid%22:4326}*\n",
    "  \n",
    "  This files is providing the boundaries of each Authority Area (borough or neighbourhood) for the whole United Kingdom.\n",
    "  \n",
    "  For each area we can see the name, the code of the neighbourhood (the same as in the population data file) and the geometry of the area by points (Longitude, Latitude) of the boundary\n",
    "  \n",
    "  \n",
    "* **Foursquare location data** for all the venues within the London Metropolitan Area of the next types:\n",
    "    *Hospital, Doctor, Pharmacy, Train Platforms, Underground, Light Rail, Park, Pool, Gym, Fruit and Vegetable shop, Supermarket, Shopping mall, Elementary School, Middle School and Preschool.*"
   ]
  }
 ],
 "metadata": {
  "kernelspec": {
   "display_name": "Python 3.8.1 64-bit",
   "language": "python",
   "name": "python38164bitc3858bcd2f5e42a4b2d9c2d4c1bcf675"
  },
  "language_info": {
   "codemirror_mode": {
    "name": "ipython",
    "version": 3
   },
   "file_extension": ".py",
   "mimetype": "text/x-python",
   "name": "python",
   "nbconvert_exporter": "python",
   "pygments_lexer": "ipython3",
   "version": "3.8.1"
  }
 },
 "nbformat": 4,
 "nbformat_minor": 4
}
