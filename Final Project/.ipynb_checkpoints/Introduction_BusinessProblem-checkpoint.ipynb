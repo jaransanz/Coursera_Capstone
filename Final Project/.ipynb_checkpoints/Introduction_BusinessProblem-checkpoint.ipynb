{
 "cells": [
  {
   "cell_type": "markdown",
   "metadata": {},
   "source": [
    "### Introduction - Business Problem\n",
    "\n",
    "With over 6 million people living in 33 different boroughs,London is the capital of the United Kingdom and one of the most important financial cities in the world.\n",
    "As you can imagine, whenever any familly needs to move into London, or just one to relocate within the city, the decision is not easy: Not all of the neighbourghoos have the same access to services or places. Some areas could have really good transportation links however they may not be close enough to supermarkets or grocery shops. Some others could have extraordinary access to hospitals and or doctors but may not have any park, or school for the kids in the family near to them. \n",
    "\n",
    "The target audience of this analysis is a young family with children that has to make the decision of which area of London is going to be next place to his new home and it is aimed to provide enough good information abouth each of the 33 boroughs of the London metropolitan Area to help in the decision making process.\n",
    "\n",
    "We would like to clasify each boroughs of the London metropolitan area based on the population and the number of services taht each borough has into main categories such as: Transportation, Health Services, Education, Well-Being and Daily needs that are considered the most relevant for the target audience.\n",
    "\n"
   ]
  }
 ],
 "metadata": {
  "kernelspec": {
   "display_name": "Python 3.8.1 64-bit",
   "language": "python",
   "name": "python38164bitc3858bcd2f5e42a4b2d9c2d4c1bcf675"
  },
  "language_info": {
   "codemirror_mode": {
    "name": "ipython",
    "version": 3
   },
   "file_extension": ".py",
   "mimetype": "text/x-python",
   "name": "python",
   "nbconvert_exporter": "python",
   "pygments_lexer": "ipython3",
   "version": "3.8.1"
  }
 },
 "nbformat": 4,
 "nbformat_minor": 4
}
