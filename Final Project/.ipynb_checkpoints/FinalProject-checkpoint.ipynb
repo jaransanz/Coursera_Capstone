{
 "cells": [
  {
   "cell_type": "markdown",
   "metadata": {},
   "source": [
    "<h1>Table of content</h1>\n",
    "<ul>\n",
    "    <li><a href=\"#ref1\">Introduction / Problem definition </a></li>\n",
    "    <li><a href=\"#ref2\">Data </a></li>\n",
    "    <li><a href=\"#ref3\">Methodology </a></li>\n",
    "    <li><a href=\"#ref4\">Grid Search</a></li>\n",
    "</ul>"
   ]
  },
  {
   "cell_type": "markdown",
   "metadata": {},
   "source": [
    "Lets first start with importing all the necesary libraries to run the analysis"
   ]
  },
  {
   "cell_type": "code",
   "execution_count": 1,
   "metadata": {},
   "outputs": [],
   "source": [
    "import pandas as pd\n",
    "import numpy as np \n",
    "import folium\n",
    "import json\n",
    "import math\n",
    "from shapely.geometry import shape, Point\n",
    "import requests\n",
    "from pandas.io.json import json_normalize"
   ]
  },
  {
   "cell_type": "code",
   "execution_count": null,
   "metadata": {},
   "outputs": [],
   "source": [
    "ukpostcode_df=pd.read_csv('http://geoportal1-ons.opendata.arcgis.com/datasets/687f346f5023410ba86615655ff33ca9_1.csv')\n",
    "ukpostcode_df.shape\n"
   ]
  },
  {
   "cell_type": "markdown",
   "metadata": {},
   "source": [
    "# Data preparation\n",
    "## GeoJson data:\n",
    "The data obtained from the British government provides all the boundaries of all British Local Authority Areas. Since the analysis is focused in London a modification in the file is needed dropping all the areas that are not within London metropolitan Area. In future, this new file will be used to exclude any venues that are outside London and to display the chlorophet map with only the boroughs in the analysis\n",
    "\n",
    "## Foursquare data:\n",
    "The objective is to obtain all the venues of the selected categories that are inside the London metropolitan Area. The challenge in this is the limits in number of requests and number of venues in the results that Foursquare set for free accounts. A Foursquare request, centred in the centre of London with a radius large enough to cover all the metropolitan area and with all the categories we are interested could be used, however only 50 venues would be retrieved due to Foursquare limits. To ensure that all the venues of each category are retrieved from the Foursquare database a sweep of the London metropolitan area with circles of a radius small enough to not saturate the request with over 50 results is used. Going further a sweep of the area looking for venues of only one particular category is done. In that way the number of sweeps to the London metropolitan area will match exactly the number of distinct types of venues that the target audience of the analysis are interested in.\n",
    "\n",
    "### Creation of the mesh of points\n",
    "\n",
    "Foursquare only allows to get venues by giving it a centre and a radius. In this way we need to create a mesh of points (Longitude, Latitude) that will be used as centres in the Foursquare request and that will cover the entire area of all London neighbourhoods. The layout of circles that will cover the area with less overlapping zones is similar to the one in the next picture.\n",
    "<img src=https://upload.wikimedia.org/wikipedia/commons/c/c6/Circle_covering_-_Hexagonal_pattern.png>\n",
    "\n",
    "The distance between the centerpoints of each circle in function of the radious are defined by the next expressions:\n",
    "\n",
    "<img src=mesh_definition.jpg>\n",
    "\n",
    "Once the distance between points is known we only need to define where to place the mesh. The answer to that lies with the GeoJson data from the previous step: by checking what are the minimum and maximum values of the coordinates longitude and latitude of the geographical points defining the boundary of all the neighbourhoods of London we obtain the 4 vertex of the rectangle that set the boundaries of the mesh\n",
    "\n"
   ]
  },
  {
   "cell_type": "code",
   "execution_count": null,
   "metadata": {},
   "outputs": [],
   "source": [
    "ukpostcode_df.head()"
   ]
  },
  {
   "cell_type": "code",
   "execution_count": null,
   "metadata": {},
   "outputs": [],
   "source": [
    "ukgeo = r'Local_Authority_Districts__December_2017__Boundaries_in_the_UK__WGS84_.geojson'\n",
    "\n"
   ]
  },
  {
   "cell_type": "code",
   "execution_count": null,
   "metadata": {},
   "outputs": [],
   "source": [
    "# gejoson to dataframe\n",
    "\n",
    "geodf = pd.read_csv('Local_Authority_Districts_(April_2019)_Boundaries_UK_BFE.csv')\n",
    "geodf\n"
   ]
  },
  {
   "cell_type": "code",
   "execution_count": 2,
   "metadata": {
    "tags": []
   },
   "outputs": [],
   "source": [
    "LondonBoroughsCodes = list(range(9000001,9000034))\n",
    "LondonBoroughs = []\n",
    "for item in LondonBoroughsCodes:\n",
    "    LondonBoroughs.append('E0{}'.format(item))\n",
    " \n"
   ]
  },
  {
   "cell_type": "code",
   "execution_count": null,
   "metadata": {},
   "outputs": [],
   "source": [
    "geodf_london = geodf[geodf.LAD19CD.isin(LondonBoroughs)]\n",
    "print(geodf_london.shape)\n",
    "\n",
    "geodf_london.drop(['FID', 'LAD19CD', 'BNG_E', 'BNG_N'], axis=1, inplace=True)\n",
    "print(geodf_london.shape)\n",
    "geodf_london.columns = ['Borough_Code', 'Name', 'Long', 'Lat', 'Area', 'Length']\n",
    "geodf_london.reset_index(drop=True, inplace=True)\n",
    "geodf_london.head()"
   ]
  },
  {
   "cell_type": "markdown",
   "metadata": {},
   "source": [
    "* Supermarket: 52f2ab2ebcbc57f1066b8b46\n",
    "* Fruit & Vegetable Store: 52f2ab2ebcbc57f1066b8b1c\n",
    "* Pharmacy: 4bf58dd8d48988d10f951735\n",
    "* Shopping Mall: 4bf58dd8d48988d1fd941735\n",
    "* Airport Terminal: 4bf58dd8d48988d1eb931735\n",
    "* Train Station: 4bf58dd8d48988d129951735\n",
    "* Gym / Fitness Center: 4bf58dd8d48988d175941735\n",
    "* Doctor's Office: 4bf58dd8d48988d177941735\n",
    "* Hospital: 4bf58dd8d48988d196941735\n",
    "* Elementary School: 4f4533804b9074f6e4fb0105\n",
    "* Middle School: 4f4533814b9074f6e4fb0106\n",
    "* Preschool: 52e81612bcbc57f1066b7a45\n"
   ]
  },
  {
   "cell_type": "code",
   "execution_count": null,
   "metadata": {},
   "outputs": [],
   "source": [
    "\n",
    "# load GeoJSON file containing sectors\n",
    "def find_borough(names, lats, longs, geojson):\n",
    "    with open(geojson) as f:\n",
    "        js = json.load(f)\n",
    "    venues_borough = []\n",
    "    for name, lat, long, in zip(names, lats, longs):\n",
    "        # construct point based on lon/lat returned by geocoder\n",
    "        point = Point(long, lat)\n",
    "        # check each polygon to see if it contains the point\n",
    "        for feature in js['features']:\n",
    "            polygon = shape(feature['geometry'])\n",
    "            if polygon.contains(point):\n",
    "                venues_borough.append([[name, lat, long, feature['properties']['lad17nm']]])\n",
    "    venues_borough_df= pd.DataFrame([item for venue_borough in venues_borough for item in venue_borough])\n",
    "    venues_borough_df.columns = ['Name', 'Latitude', 'Longitude', 'Borough']\n",
    "    return venues_borough_df"
   ]
  },
  {
   "cell_type": "code",
   "execution_count": null,
   "metadata": {
    "tags": []
   },
   "outputs": [],
   "source": [
    "#create a df with all the points in the london boroughs boundaries\n",
    "boroughs_boundary = []\n",
    "with open('Local_Authority_Districts__December_2017__Boundaries_in_the_UK__WGS84_.geojson') as f:\n",
    "    data = json.load(f)\n",
    "    for element in data['features']:\n",
    "        if element['properties']['lad17cd']  in LondonBoroughs:\n",
    "            for coordinategroup in element['geometry']['coordinates']:\n",
    "                for coordinate in coordinategroup:\n",
    "                    boroughs_boundary.append([[element['properties']['lad17cd'], coordinate[0], coordinate[1]]])\n",
    "\n",
    "boroughs_boundary_df = pd.DataFrame([item for element in boroughs_boundary for item in element])\n",
    "boroughs_boundary_df.columns = ['Borough_code', 'Longitude', 'Latitude']\n",
    "print(boroughs_boundary_df.shape)\n",
    "min_long=boroughs_boundary_df['Longitude'].min()\n",
    "max_long=boroughs_boundary_df['Longitude'].max()\n",
    "min_lat=boroughs_boundary_df['Latitude'].min()\n",
    "max_lat=boroughs_boundary_df['Latitude'].max()\n",
    "\n",
    "\n",
    "#create a new geometry by merging all London boroughs into one area\n",
    "\n"
   ]
  },
  {
   "cell_type": "code",
   "execution_count": null,
   "metadata": {
    "tags": []
   },
   "outputs": [],
   "source": [
    "#Delete features for non Local Authorities outside Lonodon Area\n",
    "with open('Local_Authority_Districts__December_2017__Boundaries_in_the_UK__WGS84_.geojson', 'r') as f_in:\n",
    "    data2 = json.load(f_in)\n",
    "    features_filtered=[]\n",
    "    for i in range(len(data2['features'])):\n",
    "        #print(data2[i])\n",
    "        if data2['features'][i]['properties']['lad17cd']  in LondonBoroughs:\n",
    "            features_filtered.append(data2['features'][i])\n",
    "            \n",
    "    data2['features'] = features_filtered  \n",
    "    with open('London_Boroughs_Boundaries.geojson', 'w') as f_out:\n",
    "        json.dump(data2, f_out)\n",
    "\n"
   ]
  },
  {
   "cell_type": "code",
   "execution_count": null,
   "metadata": {
    "tags": []
   },
   "outputs": [],
   "source": [
    "\n",
    "radius = 2.5 #radio en km\n",
    "delta_longitude = math.sqrt(3)*radius/(111.32*math.cos(math.radians(boroughs_boundary_df['Latitude'].mean())))\n",
    "delta_latitude = 3*radius/110.574\n",
    "\n",
    "mesh_points = []\n",
    "\n",
    "for i in range(-1, int((max_long - min_long)/delta_longitude)+2):\n",
    "    for j in range(-1, int((max_lat - min_lat)/delta_latitude)+2):\n",
    "        mesh_points.append([min_lat + j*delta_latitude, min_long + i*delta_longitude])\n",
    "        mesh_points.append([min_lat + delta_latitude/2 +j*delta_latitude, min_long +delta_longitude/2 + i*delta_longitude])\n",
    "print('Mesh for London area created')\n",
    "London_lat=boroughs_boundary_df['Latitude'].mean()\n",
    "London_lon=boroughs_boundary_df['Longitude'].mean()\n",
    "print(\"The coordinates for the center of Lonodon area are: {},{}\".format(London_lat,London_lon))"
   ]
  },
  {
   "cell_type": "code",
   "execution_count": null,
   "metadata": {
    "scrolled": true
   },
   "outputs": [],
   "source": [
    "map_london = folium.Map(location=[London_lat, London_lon], zoom_start=10, tiles='openstreetmap')\n",
    "map_london.choropleth(\n",
    "    geo_data='London_Boroughs_Boundaries.geojson',\n",
    "    \n",
    "    fill_color='orange', \n",
    "    fill_opacity=0.4, \n",
    "    line_opacity=0.6,\n",
    "    legend_name='London Boroughs'\n",
    ")\n",
    "\n",
    "for point in mesh_points:\n",
    "   folium.Circle(point, radius= radius*1000, color='green', fill_color='green', fill_opacity=0.3).add_to(map_london)\n",
    "map_london"
   ]
  },
  {
   "cell_type": "markdown",
   "metadata": {},
   "source": [
    "For each point in the mesh we are going to check if the vertex of the its hexagon will be inside any london area:"
   ]
  },
  {
   "cell_type": "code",
   "execution_count": null,
   "metadata": {},
   "outputs": [],
   "source": [
    "def check_london_area(geopoint, geojson):\n",
    "    with open(geojson) as f:\n",
    "        js = json.load(f)\n",
    "        point = Point(geopoint[1],geopoint[0])\n",
    "        # check each polygon to see if it contains the point\n",
    "        result=False\n",
    "        for feature in js['features']:\n",
    "            polygon = shape(feature['geometry'])\n",
    "            if polygon.contains(point):\n",
    "                return True\n",
    "                break\n",
    "    return result    \n",
    "mesh_points_within_london = []\n",
    "for point in mesh_points:\n",
    "    point_a = [point[0] + radius/110.574, point[1]]\n",
    "    point_b = [point[0] + radius/(2*110.574), point[1] + math.sqrt(3)*radius/(2*111.32*math.cos(math.radians(boroughs_boundary_df['Latitude'].mean())))]\n",
    "    point_c = [point[0] - radius/(2*110.574), point[1] + math.sqrt(3)*radius/(2*111.32*math.cos(math.radians(boroughs_boundary_df['Latitude'].mean())))]\n",
    "    point_d = [point[0] - radius/110.574, point[1]]\n",
    "    point_e = [point[0] + radius/(2*110.574), point[1] - math.sqrt(3)*radius/(2*111.32*math.cos(math.radians(boroughs_boundary_df['Latitude'].mean())))]\n",
    "    point_f = [point[0] - radius/(2*110.574), point[1] - math.sqrt(3)*radius/(2*111.32*math.cos(math.radians(boroughs_boundary_df['Latitude'].mean())))]\n",
    "    if check_london_area(point_a, 'London_Boroughs_Boundaries.geojson'):\n",
    "       mesh_points_within_london.append(point)\n",
    "    elif check_london_area(point_b, 'London_Boroughs_Boundaries.geojson'):\n",
    "       mesh_points_within_london.append(point)\n",
    "    elif check_london_area(point_c, 'London_Boroughs_Boundaries.geojson'):\n",
    "       mesh_points_within_london.append(point)\n",
    "    elif check_london_area(point_d, 'London_Boroughs_Boundaries.geojson'):\n",
    "       mesh_points_within_london.append(point) \n",
    "    elif check_london_area(point_e, 'London_Boroughs_Boundaries.geojson'):\n",
    "       mesh_points_within_london.append(point) \n",
    "    elif check_london_area(point_f, 'London_Boroughs_Boundaries.geojson'):\n",
    "       mesh_points_within_london.append(point)       \n",
    "    folium.CircleMarker(point_a, radius=2, color='blue', fill=True, fill_color='blue', fill_opacity=0.7, parse_html=False).add_to(map_london)\n",
    "    folium.CircleMarker(point_b, radius=2, color='blue', fill=True, fill_color='blue', fill_opacity=0.7, parse_html=False).add_to(map_london)\n",
    "    folium.CircleMarker(point_c, radius=2, color='blue', fill=True, fill_color='blue', fill_opacity=0.7, parse_html=False).add_to(map_london)\n",
    "    folium.CircleMarker(point_d, radius=2, color='blue', fill=True, fill_color='blue', fill_opacity=0.7, parse_html=False).add_to(map_london)\n",
    "    folium.CircleMarker(point_e, radius=2, color='blue', fill=True, fill_color='blue', fill_opacity=0.7, parse_html=False).add_to(map_london)\n",
    "    folium.CircleMarker(point_f, radius=2, color='blue', fill=True, fill_color='blue', fill_opacity=0.7, parse_html=False).add_to(map_london)\n",
    "map_london\n"
   ]
  },
  {
   "cell_type": "code",
   "execution_count": null,
   "metadata": {},
   "outputs": [],
   "source": [
    "map_london = folium.Map(location=[London_lat, London_lon], zoom_start=10, tiles='openstreetmap')\n",
    "map_london.choropleth(\n",
    "    geo_data='London_Boroughs_Boundaries.geojson',\n",
    "    \n",
    "    fill_color='orange', \n",
    "    fill_opacity=0.4, \n",
    "    line_opacity=0.6,\n",
    "    legend_name='London Boroughs'\n",
    ")\n",
    "\n",
    "for point in mesh_points_within_london:\n",
    "   folium.Circle(point, radius= radius*1000, color='green', fill_color='green', fill_opacity=0.3).add_to(map_london)\n",
    "map_london"
   ]
  },
  {
   "cell_type": "code",
   "execution_count": null,
   "metadata": {
    "tags": []
   },
   "outputs": [],
   "source": [
    "print(len(mesh_points))\n",
    "print(len(mesh_points_within_london))"
   ]
  },
  {
   "cell_type": "code",
   "execution_count": null,
   "metadata": {
    "tags": []
   },
   "outputs": [],
   "source": [
    "CLIENT_ID = '3CL45KZFHOK53DH0KIK33CC2YQWHHYSYUFFVCZNMD43OEXL1' # your Foursquare ID\n",
    "CLIENT_SECRET = 'FSBQZABH0LK45QVXZ1Y0ZUQU421M5SCU5XYMX1ZSIMB54LEC' # your Foursquare Secret\n",
    "VERSION = '20180605' # Foursquare API version\n",
    "LIMIT = 500\n",
    "print('Your credentails:')\n",
    "print('CLIENT_ID: ' + CLIENT_ID)\n",
    "print('CLIENT_SECRET:' + CLIENT_SECRET)\n",
    "\n",
    "def getVenues(mesh_points, group, category_name, category_code, radius=2000):\n",
    "    \n",
    "    venues_list=[]\n",
    "    for mesh_point in mesh_points:\n",
    "                    \n",
    "        # create the API request URL\n",
    "        url = 'https://api.foursquare.com/v2/venues/search?client_id={}&client_secret={}&ll={},{}&v={}&categoryId={}&radius={}&limit={}'.format(    \n",
    "            CLIENT_ID, \n",
    "            CLIENT_SECRET, \n",
    "            mesh_point[0], \n",
    "            mesh_point[1], \n",
    "            VERSION,\n",
    "            category_code,\n",
    "            radius, \n",
    "            LIMIT)\n",
    "        \n",
    "        # make the GET request\n",
    "        json_results = requests.get(url).json() #[\"response\"]['groups'][0]['items']\n",
    "        # return only relevant information for each nearby venue\n",
    "        results = json_results['response']['venues']\n",
    "        \n",
    "        venues_list.append([(\n",
    "            v['name'], \n",
    "            v['location']['lat'], \n",
    "            v['location']['lng'],  \n",
    "            group,\n",
    "            category_name) for v in results])\n",
    "\n",
    "    \n",
    "        nearby_venues = pd.DataFrame([item for venue_list in venues_list for item in venue_list])\n",
    "        if nearby_venues.shape[0]>0:\n",
    "            nearby_venues.columns = ['Venue', \n",
    "                        'Latitude', \n",
    "                        'Longitude',\n",
    "                        'Group', \n",
    "                        'Category']\n",
    "                        \n",
    "            nearby_venues.drop_duplicates(inplace=True)\n",
    "        nearby_venues.to_csv('{}.csv'.format(category_name))\n"
   ]
  },
  {
   "cell_type": "code",
   "execution_count": null,
   "metadata": {
    "tags": []
   },
   "outputs": [],
   "source": [
    "categories_group = {\n",
    "    'Health': {\n",
    "        'Hospital': '4bf58dd8d48988d196941735',\n",
    "        'Doctor': '4bf58dd8d48988d177941735',\n",
    "        'Pharmacy': '4bf58dd8d48988d10f951735'},\n",
    "    'Transport': {\n",
    "        'Trains_Platforms': '4f4531504b9074f6e4fb0102',\n",
    "        'Underground': '4bf58dd8d48988d1fd931735',\n",
    "        'Light_rail': '4bf58dd8d48988d1fc931735'},\n",
    "    'Well-Being': {\n",
    "        'Park': '4bf58dd8d48988d163941735',\n",
    "        'Pool': '4bf58dd8d48988d15e941735',\n",
    "        'Gym': '4bf58dd8d48988d175941735'},\n",
    "    'Dailyneeds': {\n",
    "        'Fruit_And_Veg_Shop': '52f2ab2ebcbc57f1066b8b1c',\n",
    "        'Supermarket': '52f2ab2ebcbc57f1066b8b46',\n",
    "        'Shopping_Mall': '4bf58dd8d48988d1fd941735'},\n",
    "    'Education':{\n",
    "        'Elementary_School': '4f4533804b9074f6e4fb0105',\n",
    "        'Middle_School': '4f4533814b9074f6e4fb0106',\n",
    "        'Preschool': '52e81612bcbc57f1066b7a45'}\n",
    "\n",
    "    }\n",
    "categories_group_1={\n",
    "    'Health': {\n",
    "        'Hospital': '4bf58dd8d48988d196941735',\n",
    "        'Doctor': '4bf58dd8d48988d177941735',\n",
    "        'Pharmacy': '4bf58dd8d48988d10f951735'},\n",
    "    'Transport': {\n",
    "        'Trains_Platforms': '4f4531504b9074f6e4fb0102',\n",
    "        'Underground': '4bf58dd8d48988d1fd931735',\n",
    "        'Light_rail': '4bf58dd8d48988d1fc931735'}\n",
    "    }\n",
    "categories_group_2={\n",
    "    'Well-Being': {\n",
    "        'Park': '4bf58dd8d48988d163941735',\n",
    "        'Pool': '4bf58dd8d48988d15e941735',\n",
    "        'Gym': '4bf58dd8d48988d175941735'},\n",
    "    'Dailyneeds': {\n",
    "        'Fruit_And_Veg_Shop': '52f2ab2ebcbc57f1066b8b1c',\n",
    "        'Supermarket': '52f2ab2ebcbc57f1066b8b46',\n",
    "        'Shopping_Mall': '4bf58dd8d48988d1fd941735'},\n",
    "    'Education':{\n",
    "        'Elementary_School': '4f4533804b9074f6e4fb0105',\n",
    "        'Middle_School': '4f4533814b9074f6e4fb0106',\n",
    "        'Preschool': '52e81612bcbc57f1066b7a45'}\n",
    "\n",
    "    }\n"
   ]
  },
  {
   "cell_type": "code",
   "execution_count": null,
   "metadata": {
    "tags": []
   },
   "outputs": [],
   "source": [
    "trialmesh = mesh_points_within_london[:2] \n",
    "print(trialmesh)"
   ]
  },
  {
   "cell_type": "code",
   "execution_count": null,
   "metadata": {
    "tags": []
   },
   "outputs": [],
   "source": [
    "for group_name, categories in categories_group_1.items():\n",
    "    print('Obtaining venues for group {}'.format(group_name))\n",
    "    for name, code  in categories.items():\n",
    "        print ('Using code:{} to generate {}.csv'.format(code,name))\n",
    "        print ('...')\n",
    "        getVenues(mesh_points_within_london, group_name, name, code, radius*1000 )\n"
   ]
  },
  {
   "cell_type": "code",
   "execution_count": null,
   "metadata": {
    "tags": []
   },
   "outputs": [],
   "source": [
    "for group_name, categories in categories_group_2.items():\n",
    "    print('Obtaining venues for group {}'.format(group_name))\n",
    "    for name, code  in categories.items():\n",
    "        print ('Using code:{} to generate {}.csv'.format(code,name))\n",
    "        print ('...')\n",
    "        getVenues(mesh_points_within_london, group_name, name, code, radius*1000 )\n"
   ]
  },
  {
   "cell_type": "code",
   "execution_count": null,
   "metadata": {},
   "outputs": [],
   "source": [
    "trains_platforms_df = pd.read_csv('Trains_Platforms.csv')\n",
    "underground_df = pd.read_csv('Underground.csv')\n",
    "Elementary_School_df = pd.read_csv('Elementary_School.csv')\n",
    "Supermarket_df = pd.read_csv('Supermarket.csv')\n",
    "\n"
   ]
  },
  {
   "cell_type": "code",
   "execution_count": null,
   "metadata": {},
   "outputs": [],
   "source": [
    "for lat, long in zip(Elementary_School_df['Latitude'],Elementary_School_df['Longitude']):\n",
    "    folium.CircleMarker([lat,long], radius=2, color='yellow', fill=True, fill_color='yellow', fill_opacity=0.7, parse_html=False).add_to(map_london)\n",
    "for lat, long in zip(Supermarket_df['Latitude'],Supermarket_df['Longitude']):\n",
    "    folium.CircleMarker([lat,long], radius=2, color='orange', fill=True, fill_color='orange', fill_opacity=0.7, parse_html=False).add_to(map_london)\n",
    "\n",
    "map_london"
   ]
  },
  {
   "cell_type": "code",
   "execution_count": null,
   "metadata": {},
   "outputs": [],
   "source": []
  }
 ],
 "metadata": {
  "kernelspec": {
   "display_name": "Python 3.8.1 64-bit",
   "language": "python",
   "name": "python38164bitc3858bcd2f5e42a4b2d9c2d4c1bcf675"
  },
  "language_info": {
   "codemirror_mode": {
    "name": "ipython",
    "version": 3
   },
   "file_extension": ".py",
   "mimetype": "text/x-python",
   "name": "python",
   "nbconvert_exporter": "python",
   "pygments_lexer": "ipython3",
   "version": "3.8.1"
  }
 },
 "nbformat": 4,
 "nbformat_minor": 2
}
